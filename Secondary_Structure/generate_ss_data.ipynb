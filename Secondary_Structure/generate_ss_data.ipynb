{
 "cells": [
  {
   "cell_type": "code",
   "execution_count": 1,
   "metadata": {},
   "outputs": [],
   "source": [
    "import pandas as pd\n",
    "import re"
   ]
  },
  {
   "cell_type": "code",
   "execution_count": 2,
   "metadata": {},
   "outputs": [],
   "source": [
    "df = pd.read_csv(\"ss_data.csv\")"
   ]
  },
  {
   "cell_type": "code",
   "execution_count": 3,
   "metadata": {},
   "outputs": [],
   "source": [
    "df = df.drop_duplicates()"
   ]
  },
  {
   "cell_type": "code",
   "execution_count": 4,
   "metadata": {},
   "outputs": [
    {
     "data": {
      "text/html": [
       "<div>\n",
       "<style scoped>\n",
       "    .dataframe tbody tr th:only-of-type {\n",
       "        vertical-align: middle;\n",
       "    }\n",
       "\n",
       "    .dataframe tbody tr th {\n",
       "        vertical-align: top;\n",
       "    }\n",
       "\n",
       "    .dataframe thead th {\n",
       "        text-align: right;\n",
       "    }\n",
       "</style>\n",
       "<table border=\"1\" class=\"dataframe\">\n",
       "  <thead>\n",
       "    <tr style=\"text-align: right;\">\n",
       "      <th></th>\n",
       "      <th>sequence</th>\n",
       "      <th>length</th>\n",
       "    </tr>\n",
       "    <tr>\n",
       "      <th>ss</th>\n",
       "      <th></th>\n",
       "      <th></th>\n",
       "    </tr>\n",
       "  </thead>\n",
       "  <tbody>\n",
       "    <tr>\n",
       "      <th>C</th>\n",
       "      <td>246472</td>\n",
       "      <td>246472</td>\n",
       "    </tr>\n",
       "    <tr>\n",
       "      <th>E</th>\n",
       "      <td>268581</td>\n",
       "      <td>268581</td>\n",
       "    </tr>\n",
       "    <tr>\n",
       "      <th>H</th>\n",
       "      <td>546006</td>\n",
       "      <td>546006</td>\n",
       "    </tr>\n",
       "  </tbody>\n",
       "</table>\n",
       "</div>"
      ],
      "text/plain": [
       "    sequence  length\n",
       "ss                  \n",
       "C     246472  246472\n",
       "E     268581  268581\n",
       "H     546006  546006"
      ]
     },
     "execution_count": 4,
     "metadata": {},
     "output_type": "execute_result"
    }
   ],
   "source": [
    "df.groupby(\"ss\").count()"
   ]
  },
  {
   "cell_type": "code",
   "execution_count": 5,
   "metadata": {},
   "outputs": [],
   "source": [
    "frag_length = [6,7,8,9,10]\n",
    "for fl in frag_length:\n",
    "    new_data = []\n",
    "    tmp = df[df['length']>=fl]\n",
    "    for i,r in tmp.iterrows():\n",
    "        seq = str(r['sequence'])\n",
    "        ss = r['ss']\n",
    "        l = int(r['length'])\n",
    "        for j in range(0,l,fl):\n",
    "            frag = seq[j:j+fl]\n",
    "            if len(frag) == fl:\n",
    "                new_data.append([frag, ss, fl])\n",
    "        \n",
    "    df2 = pd.DataFrame(new_data, columns=['sequence','ss','length'])\n",
    "    df2 = df2.drop_duplicates()\n",
    "\n",
    "    df2.to_csv(f\"ss_data_length_{fl}_augmented.csv\", index=False)"
   ]
  },
  {
   "cell_type": "code",
   "execution_count": 7,
   "metadata": {},
   "outputs": [
    {
     "name": "stdout",
     "output_type": "stream",
     "text": [
      "Length = 6\n",
      "    sequence  length\n",
      "ss                  \n",
      "C     387694  387694\n",
      "E     238906  238906\n",
      "H     620122  620122\n",
      "Length = 7\n",
      "    sequence  length\n",
      "ss                  \n",
      "C     318717  318717\n",
      "E     164432  164432\n",
      "H     538207  538207\n",
      "Length = 8\n",
      "    sequence  length\n",
      "ss                  \n",
      "C     266350  266350\n",
      "E     111783  111783\n",
      "H     449269  449269\n",
      "Length = 9\n",
      "    sequence  length\n",
      "ss                  \n",
      "C     225571  225571\n",
      "E      73705   73705\n",
      "H     381357  381357\n",
      "Length = 10\n",
      "    sequence  length\n",
      "ss                  \n",
      "C     193274  193274\n",
      "E      48378   48378\n",
      "H     326051  326051\n"
     ]
    }
   ],
   "source": [
    "frag_length = [6,7,8,9,10]\n",
    "for fl in frag_length:\n",
    "    data = pd.read_csv(f\"ss_data_length_{fl}_augmented.csv\")\n",
    "    print (f\"Length = {fl}\")\n",
    "    print (data.groupby('ss').count())"
   ]
  },
  {
   "cell_type": "code",
   "execution_count": null,
   "metadata": {},
   "outputs": [],
   "source": []
  }
 ],
 "metadata": {
  "kernelspec": {
   "display_name": "Python 3",
   "language": "python",
   "name": "python3"
  },
  "language_info": {
   "codemirror_mode": {
    "name": "ipython",
    "version": 3
   },
   "file_extension": ".py",
   "mimetype": "text/x-python",
   "name": "python",
   "nbconvert_exporter": "python",
   "pygments_lexer": "ipython3",
   "version": "3.7.6"
  }
 },
 "nbformat": 4,
 "nbformat_minor": 4
}
