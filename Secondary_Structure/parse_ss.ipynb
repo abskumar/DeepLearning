{
 "cells": [
  {
   "cell_type": "code",
   "execution_count": 35,
   "metadata": {},
   "outputs": [],
   "source": [
    "from Bio import SeqIO\n",
    "import pandas as pd\n",
    "import re"
   ]
  },
  {
   "cell_type": "code",
   "execution_count": 44,
   "metadata": {},
   "outputs": [],
   "source": [
    "def process_data(seq, ss, filehandle):\n",
    "    notation = ['H','E','C']  # helix, strand, coil\n",
    "    non_aa = ['B','J','O','U','X','Z']\n",
    "    if len(seq) != len(ss):\n",
    "        print (\"Length Mismatch!!!\")\n",
    "        return 1\n",
    "    \n",
    "    ss = ss.replace(\" \",\"C\")\n",
    "    ss = ss.replace(\"-\", \"C\")\n",
    "#     print (seq)\n",
    "#     print (ss)\n",
    "    for stype in notation:\n",
    "        for m in re.finditer(r'{}+'.format(stype), ss):\n",
    "    #         print (m.start(), m.end(), m.group(0), m)\n",
    "            span = m.end()-m.start()\n",
    "            seq_frag = seq[m.start():m.end()]\n",
    "            if not any(aa in non_aa for aa in seq_frag) and 5<span<300:\n",
    "                filehandle.write (f\"{seq[m.start():m.end()]},{stype},{span}\\n\")\n",
    "    return 0"
   ]
  },
  {
   "cell_type": "code",
   "execution_count": 45,
   "metadata": {},
   "outputs": [],
   "source": [
    "seq = \"\"\n",
    "ss = \"\"\n",
    "read_sequence = False\n",
    "record_id = None\n",
    "outh = open(\"ss_data.csv\", \"w\")\n",
    "outh.write(\"sequence,ss,length\\n\")\n",
    "with open(\"ss.txt\") as inh:\n",
    "    for line in inh:\n",
    "        line = line.strip(\"\\n\")\n",
    "        if line.startswith(\">\"):\n",
    "            if len(seq) and len(ss):\n",
    "                rc = process_data(seq, ss, outh)\n",
    "                if rc:\n",
    "                    print (f\"Problem in record  {record_id}\")\n",
    "                seq = \"\"\n",
    "                ss = \"\"\n",
    "            if 'sequence' in line:\n",
    "                seq = \"\"\n",
    "                read_sequence = True\n",
    "            else:\n",
    "                ss = \"\"\n",
    "                read_sequence = False\n",
    "            record_id = line\n",
    "\n",
    "        elif read_sequence:\n",
    "            seq += line\n",
    "        else:\n",
    "            ss += line\n",
    "outh.close()\n",
    "        "
   ]
  },
  {
   "cell_type": "code",
   "execution_count": 46,
   "metadata": {},
   "outputs": [],
   "source": [
    "df = pd.read_csv(\"ss_data.csv\")"
   ]
  },
  {
   "cell_type": "code",
   "execution_count": 47,
   "metadata": {},
   "outputs": [
    {
     "data": {
      "text/plain": [
       "(5482527, 3)"
      ]
     },
     "execution_count": 47,
     "metadata": {},
     "output_type": "execute_result"
    }
   ],
   "source": [
    "df.shape"
   ]
  },
  {
   "cell_type": "code",
   "execution_count": 48,
   "metadata": {},
   "outputs": [],
   "source": [
    "df = df.drop_duplicates()"
   ]
  },
  {
   "cell_type": "code",
   "execution_count": 49,
   "metadata": {},
   "outputs": [
    {
     "data": {
      "text/plain": [
       "(1061059, 3)"
      ]
     },
     "execution_count": 49,
     "metadata": {},
     "output_type": "execute_result"
    }
   ],
   "source": [
    "df.shape"
   ]
  },
  {
   "cell_type": "code",
   "execution_count": 50,
   "metadata": {},
   "outputs": [],
   "source": [
    "df.to_csv(\"ss_data.csv\", index=False)"
   ]
  },
  {
   "cell_type": "code",
   "execution_count": 51,
   "metadata": {},
   "outputs": [
    {
     "data": {
      "text/html": [
       "<div>\n",
       "<style scoped>\n",
       "    .dataframe tbody tr th:only-of-type {\n",
       "        vertical-align: middle;\n",
       "    }\n",
       "\n",
       "    .dataframe tbody tr th {\n",
       "        vertical-align: top;\n",
       "    }\n",
       "\n",
       "    .dataframe thead tr th {\n",
       "        text-align: left;\n",
       "    }\n",
       "\n",
       "    .dataframe thead tr:last-of-type th {\n",
       "        text-align: right;\n",
       "    }\n",
       "</style>\n",
       "<table border=\"1\" class=\"dataframe\">\n",
       "  <thead>\n",
       "    <tr>\n",
       "      <th></th>\n",
       "      <th colspan=\"8\" halign=\"left\">length</th>\n",
       "    </tr>\n",
       "    <tr>\n",
       "      <th></th>\n",
       "      <th>count</th>\n",
       "      <th>mean</th>\n",
       "      <th>std</th>\n",
       "      <th>min</th>\n",
       "      <th>25%</th>\n",
       "      <th>50%</th>\n",
       "      <th>75%</th>\n",
       "      <th>max</th>\n",
       "    </tr>\n",
       "    <tr>\n",
       "      <th>ss</th>\n",
       "      <th></th>\n",
       "      <th></th>\n",
       "      <th></th>\n",
       "      <th></th>\n",
       "      <th></th>\n",
       "      <th></th>\n",
       "      <th></th>\n",
       "      <th></th>\n",
       "    </tr>\n",
       "  </thead>\n",
       "  <tbody>\n",
       "    <tr>\n",
       "      <th>C</th>\n",
       "      <td>246472.0</td>\n",
       "      <td>16.045198</td>\n",
       "      <td>20.444205</td>\n",
       "      <td>6.0</td>\n",
       "      <td>7.0</td>\n",
       "      <td>10.0</td>\n",
       "      <td>17.0</td>\n",
       "      <td>299.0</td>\n",
       "    </tr>\n",
       "    <tr>\n",
       "      <th>E</th>\n",
       "      <td>268581.0</td>\n",
       "      <td>8.078628</td>\n",
       "      <td>2.498895</td>\n",
       "      <td>6.0</td>\n",
       "      <td>6.0</td>\n",
       "      <td>7.0</td>\n",
       "      <td>9.0</td>\n",
       "      <td>96.0</td>\n",
       "    </tr>\n",
       "    <tr>\n",
       "      <th>H</th>\n",
       "      <td>546006.0</td>\n",
       "      <td>13.347408</td>\n",
       "      <td>7.456348</td>\n",
       "      <td>6.0</td>\n",
       "      <td>9.0</td>\n",
       "      <td>12.0</td>\n",
       "      <td>16.0</td>\n",
       "      <td>275.0</td>\n",
       "    </tr>\n",
       "  </tbody>\n",
       "</table>\n",
       "</div>"
      ],
      "text/plain": [
       "      length                                                   \n",
       "       count       mean        std  min  25%   50%   75%    max\n",
       "ss                                                             \n",
       "C   246472.0  16.045198  20.444205  6.0  7.0  10.0  17.0  299.0\n",
       "E   268581.0   8.078628   2.498895  6.0  6.0   7.0   9.0   96.0\n",
       "H   546006.0  13.347408   7.456348  6.0  9.0  12.0  16.0  275.0"
      ]
     },
     "execution_count": 51,
     "metadata": {},
     "output_type": "execute_result"
    }
   ],
   "source": [
    "df.groupby(\"ss\").describe()"
   ]
  },
  {
   "cell_type": "code",
   "execution_count": 52,
   "metadata": {},
   "outputs": [
    {
     "data": {
      "text/html": [
       "<div>\n",
       "<style scoped>\n",
       "    .dataframe tbody tr th:only-of-type {\n",
       "        vertical-align: middle;\n",
       "    }\n",
       "\n",
       "    .dataframe tbody tr th {\n",
       "        vertical-align: top;\n",
       "    }\n",
       "\n",
       "    .dataframe thead tr th {\n",
       "        text-align: left;\n",
       "    }\n",
       "\n",
       "    .dataframe thead tr:last-of-type th {\n",
       "        text-align: right;\n",
       "    }\n",
       "</style>\n",
       "<table border=\"1\" class=\"dataframe\">\n",
       "  <thead>\n",
       "    <tr>\n",
       "      <th></th>\n",
       "      <th colspan=\"8\" halign=\"left\">length</th>\n",
       "    </tr>\n",
       "    <tr>\n",
       "      <th></th>\n",
       "      <th>count</th>\n",
       "      <th>mean</th>\n",
       "      <th>std</th>\n",
       "      <th>min</th>\n",
       "      <th>25%</th>\n",
       "      <th>50%</th>\n",
       "      <th>75%</th>\n",
       "      <th>max</th>\n",
       "    </tr>\n",
       "    <tr>\n",
       "      <th>ss</th>\n",
       "      <th></th>\n",
       "      <th></th>\n",
       "      <th></th>\n",
       "      <th></th>\n",
       "      <th></th>\n",
       "      <th></th>\n",
       "      <th></th>\n",
       "      <th></th>\n",
       "    </tr>\n",
       "  </thead>\n",
       "  <tbody>\n",
       "    <tr>\n",
       "      <th>C</th>\n",
       "      <td>40829.0</td>\n",
       "      <td>6.0</td>\n",
       "      <td>0.0</td>\n",
       "      <td>6.0</td>\n",
       "      <td>6.0</td>\n",
       "      <td>6.0</td>\n",
       "      <td>6.0</td>\n",
       "      <td>6.0</td>\n",
       "    </tr>\n",
       "    <tr>\n",
       "      <th>E</th>\n",
       "      <td>82039.0</td>\n",
       "      <td>6.0</td>\n",
       "      <td>0.0</td>\n",
       "      <td>6.0</td>\n",
       "      <td>6.0</td>\n",
       "      <td>6.0</td>\n",
       "      <td>6.0</td>\n",
       "      <td>6.0</td>\n",
       "    </tr>\n",
       "    <tr>\n",
       "      <th>H</th>\n",
       "      <td>38790.0</td>\n",
       "      <td>6.0</td>\n",
       "      <td>0.0</td>\n",
       "      <td>6.0</td>\n",
       "      <td>6.0</td>\n",
       "      <td>6.0</td>\n",
       "      <td>6.0</td>\n",
       "      <td>6.0</td>\n",
       "    </tr>\n",
       "  </tbody>\n",
       "</table>\n",
       "</div>"
      ],
      "text/plain": [
       "     length                                   \n",
       "      count mean  std  min  25%  50%  75%  max\n",
       "ss                                            \n",
       "C   40829.0  6.0  0.0  6.0  6.0  6.0  6.0  6.0\n",
       "E   82039.0  6.0  0.0  6.0  6.0  6.0  6.0  6.0\n",
       "H   38790.0  6.0  0.0  6.0  6.0  6.0  6.0  6.0"
      ]
     },
     "execution_count": 52,
     "metadata": {},
     "output_type": "execute_result"
    }
   ],
   "source": [
    "df[df['length']==6].groupby(\"ss\").describe()"
   ]
  },
  {
   "cell_type": "code",
   "execution_count": 55,
   "metadata": {},
   "outputs": [],
   "source": [
    "for l in [6,7,8,9,10]:\n",
    "    df[df['length']==l].to_csv(f\"ss_data_length_{l}.csv\", index=False)\n"
   ]
  },
  {
   "cell_type": "code",
   "execution_count": 57,
   "metadata": {},
   "outputs": [
    {
     "name": "stdout",
     "output_type": "stream",
     "text": [
      "     length                                   \n",
      "      count mean  std  min  25%  50%  75%  max\n",
      "ss                                            \n",
      "C   40829.0  6.0  0.0  6.0  6.0  6.0  6.0  6.0\n",
      "E   82039.0  6.0  0.0  6.0  6.0  6.0  6.0  6.0\n",
      "H   38790.0  6.0  0.0  6.0  6.0  6.0  6.0  6.0\n",
      "     length                                   \n",
      "      count mean  std  min  25%  50%  75%  max\n",
      "ss                                            \n",
      "C   29545.0  7.0  0.0  7.0  7.0  7.0  7.0  7.0\n",
      "E   59153.0  7.0  0.0  7.0  7.0  7.0  7.0  7.0\n",
      "H   44365.0  7.0  0.0  7.0  7.0  7.0  7.0  7.0\n",
      "     length                                   \n",
      "      count mean  std  min  25%  50%  75%  max\n",
      "ss                                            \n",
      "C   23102.0  8.0  0.0  8.0  8.0  8.0  8.0  8.0\n",
      "E   43425.0  8.0  0.0  8.0  8.0  8.0  8.0  8.0\n",
      "H   45278.0  8.0  0.0  8.0  8.0  8.0  8.0  8.0\n",
      "     length                                   \n",
      "      count mean  std  min  25%  50%  75%  max\n",
      "ss                                            \n",
      "C   18673.0  9.0  0.0  9.0  9.0  9.0  9.0  9.0\n",
      "E   28932.0  9.0  0.0  9.0  9.0  9.0  9.0  9.0\n",
      "H   44874.0  9.0  0.0  9.0  9.0  9.0  9.0  9.0\n",
      "     length                                         \n",
      "      count  mean  std   min   25%   50%   75%   max\n",
      "ss                                                  \n",
      "C   15737.0  10.0  0.0  10.0  10.0  10.0  10.0  10.0\n",
      "E   19995.0  10.0  0.0  10.0  10.0  10.0  10.0  10.0\n",
      "H   47304.0  10.0  0.0  10.0  10.0  10.0  10.0  10.0\n"
     ]
    }
   ],
   "source": [
    "for l in [6,7,8,9,10]:\n",
    "    print (df[df['length']==l].groupby(\"ss\").describe())"
   ]
  },
  {
   "cell_type": "markdown",
   "metadata": {},
   "source": [
    "length                                   \n",
    "      count mean  std  min  25%  50%  75%  max\n",
    "ss                                            \n",
    "C   40829.0  6.0  0.0  6.0  6.0  6.0  6.0  6.0\n",
    "E   82039.0  6.0  0.0  6.0  6.0  6.0  6.0  6.0\n",
    "H   38790.0  6.0  0.0  6.0  6.0  6.0  6.0  6.0\n",
    "     length                                   \n",
    "      count mean  std  min  25%  50%  75%  max\n",
    "ss                                            \n",
    "C   29545.0  7.0  0.0  7.0  7.0  7.0  7.0  7.0\n",
    "E   59153.0  7.0  0.0  7.0  7.0  7.0  7.0  7.0\n",
    "H   44365.0  7.0  0.0  7.0  7.0  7.0  7.0  7.0\n",
    "#         `length `                                  \n",
    "*          `count mean  std  min  25%  50%  75%  max`\n",
    "*    `ss`                                            \n",
    "*    `C   23102.0  8.0  0.0  8.0  8.0  8.0  8.0  8.0`\n",
    "*    `E   43425.0  8.0  0.0  8.0  8.0  8.0  8.0  8.0`\n",
    "*    `H   45278.0  8.0  0.0  8.0  8.0  8.0  8.0  8.0`\n",
    "     \n",
    "     length                                   \n",
    "      count mean  std  min  25%  50%  75%  max\n",
    "ss                                            \n",
    "C   18673.0  9.0  0.0  9.0  9.0  9.0  9.0  9.0\n",
    "E   28932.0  9.0  0.0  9.0  9.0  9.0  9.0  9.0\n",
    "H   44874.0  9.0  0.0  9.0  9.0  9.0  9.0  9.0\n",
    "     length                                         \n",
    "      count  mean  std   min   25%   50%   75%   max\n",
    "ss                                                  \n",
    "C   15737.0  10.0  0.0  10.0  10.0  10.0  10.0  10.0\n",
    "E   19995.0  10.0  0.0  10.0  10.0  10.0  10.0  10.0\n",
    "H   47304.0  10.0  0.0  10.0  10.0  10.0  10.0  10.0"
   ]
  },
  {
   "cell_type": "code",
   "execution_count": null,
   "metadata": {},
   "outputs": [],
   "source": []
  }
 ],
 "metadata": {
  "kernelspec": {
   "display_name": "Python 3",
   "language": "python",
   "name": "python3"
  },
  "language_info": {
   "codemirror_mode": {
    "name": "ipython",
    "version": 3
   },
   "file_extension": ".py",
   "mimetype": "text/x-python",
   "name": "python",
   "nbconvert_exporter": "python",
   "pygments_lexer": "ipython3",
   "version": "3.7.6"
  }
 },
 "nbformat": 4,
 "nbformat_minor": 4
}
